{
 "cells": [
  {
   "cell_type": "code",
   "execution_count": 1,
   "id": "2d3c3b25",
   "metadata": {},
   "outputs": [
    {
     "name": "stdout",
     "output_type": "stream",
     "text": [
      "enter the mark(0 to 100)85\n",
      "the grade is A\n"
     ]
    }
   ],
   "source": [
    "mark=int(input('enter the mark(0 to 100)'))\n",
    "if mark<25:\n",
    "    print('the grade is f')\n",
    "elif mark<45:\n",
    "    print('the grade is E')\n",
    "elif mark<50:\n",
    "    print('the grade is D')\n",
    "elif mark<60:\n",
    "    print('the grade is C')\n",
    "elif mark<80:\n",
    "    print('the grade is B')\n",
    "else:\n",
    "    print('the grade is A')"
   ]
  },
  {
   "cell_type": "code",
   "execution_count": 2,
   "id": "370e5e0f",
   "metadata": {},
   "outputs": [
    {
     "name": "stdout",
     "output_type": "stream",
     "text": [
      "enter the length of rectangle\n",
      "15\n",
      "enter the breadth of the rectangle\n",
      "15\n",
      "it is square\n"
     ]
    }
   ],
   "source": [
    "length=int(input('enter the length of rectangle\\n'))\n",
    "breadth=int(input('enter the breadth of the rectangle\\n'))\n",
    "if length==breadth:\n",
    "    print('it is square')\n",
    "else:\n",
    "    print('it is not square')\n"
   ]
  },
  {
   "cell_type": "code",
   "execution_count": 3,
   "id": "3e4cb1bc",
   "metadata": {},
   "outputs": [
    {
     "name": "stdout",
     "output_type": "stream",
     "text": [
      "No of classes held=20\n",
      "No of classes attended=14\n",
      "Attendence is 70.0\n",
      "Not allowed to sit in exam\n"
     ]
    }
   ],
   "source": [
    "cls_held=int(input('No of classes held='))\n",
    "cls_att=int(input('No of classes attended='))\n",
    "attended=(cls_att/cls_held)*100\n",
    "print('Attendence is',attended)\n",
    "if attended>75:\n",
    "    print('Allowed to sit in exam')\n",
    "else:\n",
    "    print('Not allowed to sit in exam')"
   ]
  },
  {
   "cell_type": "code",
   "execution_count": 4,
   "id": "0b548b2a",
   "metadata": {},
   "outputs": [
    {
     "name": "stdout",
     "output_type": "stream",
     "text": [
      "list1=4 5 6 7 8 9\n",
      "[4, 5, 6, 7, 8, 9]\n",
      "length of the list= 6\n",
      "sum= 39\n",
      "even_list= [4, 6, 8]\n",
      "odd_list= [5, 7, 9]\n"
     ]
    }
   ],
   "source": [
    "element=list(map(int,input('list1=').split()))\n",
    "print(element)\n",
    "print('length of the list=',len(element))\n",
    "sum=0\n",
    "evenlist=[]\n",
    "oddlist=[]\n",
    "for i in element:\n",
    "    sum=sum+i\n",
    "    if i%2==0:\n",
    "        evenlist.append(i)\n",
    "    else:\n",
    "        oddlist.append(i)\n",
    "print('sum=',sum)       \n",
    "print('even_list=',evenlist)\n",
    "print('odd_list=',oddlist)"
   ]
  },
  {
   "cell_type": "code",
   "execution_count": null,
   "id": "fa3b65e2",
   "metadata": {},
   "outputs": [
    {
     "name": "stdout",
     "output_type": "stream",
     "text": [
      "welcome to AMAZON\n"
     ]
    }
   ],
   "source": [
    "print('welcome to AMAZON')\n",
    "\n",
    "\n",
    "while True:\n",
    "    x=input('enter quit to stop')\n",
    "    x=x.lower()\n",
    "    if x=='quit':\n",
    "        print('see you later')\n",
    "        break\n",
    "    y=x.split()\n",
    "    if len(y)==0:\n",
    "         print('please search the products in website')\n",
    "    elif 'good morning'in y:\n",
    "        print('good morning')\n",
    "    elif 'products'in y:\n",
    "        print('please visit www.amazon.com for more products')\n",
    "    else:\n",
    "        print('please use another option')  "
   ]
  },
  {
   "cell_type": "code",
   "execution_count": 10,
   "id": "4fe66f63",
   "metadata": {},
   "outputs": [
    {
     "name": "stdout",
     "output_type": "stream",
     "text": [
      "enter value of a:4\n",
      "enter value of b:5\n",
      "enter value of c:6\n",
      "\n",
      "root1: (-0.625-1.0532687216470449j)\n",
      "\n",
      "root2: (-0.625+1.0532687216470449j)\n"
     ]
    }
   ],
   "source": [
    "import cmath\n",
    "a=float(input('enter value of a:'))\n",
    "b=float(input('enter value of b:'))\n",
    "c=float(input('enter value of c:'))\n",
    "d=(b**2)-(4*a*c)\n",
    "root1=(-b-cmath.sqrt(d))/(2*a)\n",
    "root2=(-b+cmath.sqrt(d))/(2*a)\n",
    "print('\\nroot1:',root1)\n",
    "print('\\nroot2:',root2)"
   ]
  },
  {
   "cell_type": "code",
   "execution_count": 11,
   "id": "8296d7ed",
   "metadata": {},
   "outputs": [
    {
     "name": "stdout",
     "output_type": "stream",
     "text": [
      "current number 1 previous number 0 sum: 1\n",
      "current number 2 previous number 1 sum: 3\n",
      "current number 3 previous number 2 sum: 5\n",
      "current number 4 previous number 3 sum: 7\n",
      "current number 5 previous number 4 sum: 9\n",
      "current number 6 previous number 5 sum: 11\n",
      "current number 7 previous number 6 sum: 13\n",
      "current number 8 previous number 7 sum: 15\n",
      "current number 9 previous number 8 sum: 17\n"
     ]
    }
   ],
   "source": [
    "for i in range(1,10):\n",
    "    i==0\n",
    "    previousnum=i-1\n",
    "    sum=previousnum+i\n",
    "    print('current number',i,'previous number',previousnum,'sum:',previousnum+i)"
   ]
  },
  {
   "cell_type": "code",
   "execution_count": 12,
   "id": "cb6eefc6",
   "metadata": {},
   "outputs": [
    {
     "name": "stdout",
     "output_type": "stream",
     "text": [
      "enter start value4\n",
      "enter end value11\n",
      "0  5  5  10  15  25  40  "
     ]
    }
   ],
   "source": [
    "start=int(input('enter start value'))\n",
    "end=int(input('enter end value'))\n",
    "a=0\n",
    "b=start+1\n",
    "s=0\n",
    "for i in range(start,end):\n",
    "    print(s,end='  ')\n",
    "    s=a+b\n",
    "    b=a\n",
    "    a=s"
   ]
  },
  {
   "cell_type": "code",
   "execution_count": 13,
   "id": "d182307c",
   "metadata": {},
   "outputs": [
    {
     "name": "stdout",
     "output_type": "stream",
     "text": [
      "enter the starting value7\n",
      "enter the end value21\n",
      "7  11  13  17  19  "
     ]
    }
   ],
   "source": [
    "start=int(input('enter the starting value'))\n",
    "end=int(input('enter the end value'))\n",
    "for i in range(start,end):\n",
    "    for j in range(2,i):\n",
    "        if i%j==0:\n",
    "            break\n",
    "    else:\n",
    "        print(i,end='  ')"
   ]
  },
  {
   "cell_type": "code",
   "execution_count": null,
   "id": "ca1e1a2d",
   "metadata": {},
   "outputs": [],
   "source": []
  }
 ],
 "metadata": {
  "kernelspec": {
   "display_name": "Python 3 (ipykernel)",
   "language": "python",
   "name": "python3"
  },
  "language_info": {
   "codemirror_mode": {
    "name": "ipython",
    "version": 3
   },
   "file_extension": ".py",
   "mimetype": "text/x-python",
   "name": "python",
   "nbconvert_exporter": "python",
   "pygments_lexer": "ipython3",
   "version": "3.9.13"
  }
 },
 "nbformat": 4,
 "nbformat_minor": 5
}
